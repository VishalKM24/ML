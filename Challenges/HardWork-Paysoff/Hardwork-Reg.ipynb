{
 "cells": [
  {
   "cell_type": "code",
   "execution_count": 1,
   "metadata": {},
   "outputs": [],
   "source": [
    "import numpy as np\n",
    "import pandas as pd\n",
    "import matplotlib.pyplot as plt"
   ]
  },
  {
   "cell_type": "markdown",
   "metadata": {},
   "source": [
    "### 1. Load and Visualize\n",
    "- Download\n",
    "- Load\n",
    "- Visualise\n",
    "- Normalisation"
   ]
  },
  {
   "cell_type": "code",
   "execution_count": 2,
   "metadata": {},
   "outputs": [
    {
     "data": {
      "image/png": "[encoded data removed]",
      "text/plain": [
       "<Figure size 576x396 with 1 Axes>"
      ]
     },
     "metadata": {},
     "output_type": "display_data"
    }
   ],
   "source": [
    "# Load\n",
    "X = pd.read_csv(\"./Training-Data/Linear_X_Train.csv\")\n",
    "y = pd.read_csv(\"./Training-Data/Linear_Y_Train.csv\")\n",
    "\n",
    "# Visualize\n",
    "plt.style.use(\"seaborn\")\n",
    "plt.scatter(X,y, color=\"green\")\n",
    "plt.title(\"Hardwork vs Performance\")\n",
    "plt.xlabel(\"Hardwork\")\n",
    "plt.ylabel(\"performance\")\n",
    "plt.show()"
   ]
  },
  {
   "cell_type": "code",
   "execution_count": 3,
   "metadata": {},
   "outputs": [],
   "source": [
    "#normalization\n",
    "u = X.mean()\n",
    "std = X.std() # if std equivalent to 1 it is already normalized or else\n",
    "X = (X-u)/std"
   ]
  },
  {
   "cell_type": "code",
   "execution_count": 4,
   "metadata": {},
   "outputs": [],
   "source": [
    "X = X.values\n",
    "y = y.values"
   ]
  },
  {
   "cell_type": "markdown",
   "metadata": {},
   "source": [
    "### 2. Linear Regression"
   ]
  },
  {
   "cell_type": "code",
   "execution_count": 5,
   "metadata": {},
   "outputs": [],
   "source": [
    "def hypothesis(x,theta):\n",
    "    y_ = theta[0] + theta[1]*x\n",
    "    return y_\n",
    "\n",
    "def gradient(X,Y,theta):\n",
    "    m = X.shape[0]\n",
    "    grad = np.zeros((2,))\n",
    "    \n",
    "    for i in range(m):\n",
    "        y_ = hypothesis(X[i],theta)\n",
    "        y = Y[i]\n",
    "        grad[0] += (y_ - y)\n",
    "        grad[1] += (y_ - y)*X[i]\n",
    "        \n",
    "    return grad/m\n",
    "\n",
    "def error(X,Y,theta):\n",
    "    m = X.shape[0]\n",
    "    total_error = 0.0\n",
    "    for i in range(m):\n",
    "        y_ = hypothesis(X[i],theta)\n",
    "        total_error += (y_ - y[i])**2\n",
    "        \n",
    "    return total_error/m\n",
    "        \n",
    "def gradientDescent(X, Y, max_steps = 100, learning_rate=0.1):\n",
    "    \n",
    "    theta = np.zeros((2,))\n",
    "    error_list = []\n",
    "    \n",
    "    for i in range(max_steps):\n",
    "        \n",
    "        grad = gradient(X,Y,theta)\n",
    "        e = error(X,Y,theta)\n",
    "        error_list.append(e)\n",
    "        \n",
    "        theta[0] = theta[0] - learning_rate*grad[0]\n",
    "        theta[1] = theta[1] - learning_rate*grad[1]\n",
    "    return theta, error_list"
   ]
  },
  {
   "cell_type": "code",
   "execution_count": 6,
   "metadata": {},
   "outputs": [],
   "source": [
    "theta ,error_list = gradientDescent(X,y)"
   ]
  },
  {
   "cell_type": "code",
   "execution_count": 7,
   "metadata": {},
   "outputs": [
    {
     "data": {
      "text/plain": [
       "[array([6576.35005246]),\n",
       " array([5363.4315836]),\n",
       " array([4380.90940714]),\n",
       " array([3585.0192859]),\n",
       " array([2940.3100872]),\n",
       " array([2418.06469202]),\n",
       " array([1995.02085561]),\n",
       " array([1652.3350432]),\n",
       " array([1374.74308719]),\n",
       " array([1149.88027919]),\n",
       " array([967.73061192]),\n",
       " array([820.18063876]),\n",
       " array([700.65807852]),\n",
       " array([603.83906797]),\n",
       " array([525.41102239]),\n",
       " array([461.88054114]),\n",
       " array([410.41780204]),\n",
       " array([368.73051331]),\n",
       " array([334.96180856]),\n",
       " array([307.60753691]),\n",
       " array([285.44926394]),\n",
       " array([267.49999931]),\n",
       " array([252.96023344]),\n",
       " array([241.18232522]),\n",
       " array([231.64165425]),\n",
       " array([223.91325284]),\n",
       " array([217.65287676]),\n",
       " array([212.58167165]),\n",
       " array([208.47375211]),\n",
       " array([205.14614011]),\n",
       " array([202.45061468]),\n",
       " array([200.2671097]),\n",
       " array([198.49836587]),\n",
       " array([197.06559846]),\n",
       " array([195.9049881]),\n",
       " array([194.964838]),\n",
       " array([194.20327129]),\n",
       " array([193.58636571]),\n",
       " array([193.08664258]),\n",
       " array([192.68184285]),\n",
       " array([192.35393565]),\n",
       " array([192.08831507]),\n",
       " array([191.87314966]),\n",
       " array([191.69885534]),\n",
       " array([191.55766858]),\n",
       " array([191.44330053]),\n",
       " array([191.35065692]),\n",
       " array([191.27561115]),\n",
       " array([191.21482047]),\n",
       " array([191.16557711]),\n",
       " array([191.12568762]),\n",
       " array([191.09337521]),\n",
       " array([191.06720062]),\n",
       " array([191.04599794]),\n",
       " array([191.02882275]),\n",
       " array([191.01491002]),\n",
       " array([191.00364005]),\n",
       " array([190.99451083]),\n",
       " array([190.98711572]),\n",
       " array([190.98112533]),\n",
       " array([190.97627282]),\n",
       " array([190.97234206]),\n",
       " array([190.96915795]),\n",
       " array([190.96657868]),\n",
       " array([190.96448934]),\n",
       " array([190.96279687]),\n",
       " array([190.96142589]),\n",
       " array([190.96031533]),\n",
       " array([190.95941573]),\n",
       " array([190.95868701]),\n",
       " array([190.9580967]),\n",
       " array([190.95761853]),\n",
       " array([190.95723119]),\n",
       " array([190.95691742]),\n",
       " array([190.95666326]),\n",
       " array([190.95645737]),\n",
       " array([190.95629059]),\n",
       " array([190.9561555]),\n",
       " array([190.95604606]),\n",
       " array([190.95595741]),\n",
       " array([190.9558856]),\n",
       " array([190.95582743]),\n",
       " array([190.95578031]),\n",
       " array([190.95574214]),\n",
       " array([190.95571123]),\n",
       " array([190.95568618]),\n",
       " array([190.95566589]),\n",
       " array([190.95564946]),\n",
       " array([190.95563614]),\n",
       " array([190.95562536]),\n",
       " array([190.95561663]),\n",
       " array([190.95560955]),\n",
       " array([190.95560382]),\n",
       " array([190.95559917]),\n",
       " array([190.95559541]),\n",
       " array([190.95559237]),\n",
       " array([190.9555899]),\n",
       " array([190.9555879]),\n",
       " array([190.95558628]),\n",
       " array([190.95558497])]"
      ]
     },
     "execution_count": 7,
     "metadata": {},
     "output_type": "execute_result"
    }
   ],
   "source": [
    "error_list"
   ]
  },
  {
   "cell_type": "code",
   "execution_count": 8,
   "metadata": {},
   "outputs": [
    {
     "data": {
      "image/png": "[encoded data removed]",
      "text/plain": [
       "<Figure size 576x396 with 1 Axes>"
      ]
     },
     "metadata": {},
     "output_type": "display_data"
    }
   ],
   "source": [
    "plt.figure()\n",
    "plt.plot(error_list)\n",
    "plt.title(\"Reduction in error over time\")\n",
    "plt.show()"
   ]
  },
  {
   "cell_type": "code",
   "execution_count": null,
   "metadata": {},
   "outputs": [],
   "source": []
  },
  {
   "cell_type": "markdown",
   "metadata": {},
   "source": [
    "### Prediction and Best Lines"
   ]
  },
  {
   "cell_type": "code",
   "execution_count": 9,
   "metadata": {},
   "outputs": [
    {
     "name": "stdout",
     "output_type": "stream",
     "text": [
      "[[-19.5733603 ]\n",
      " [-43.69571379]\n",
      " [ 86.48486934]\n",
      " ...\n",
      " [-20.85044539]\n",
      " [138.70196231]\n",
      " [-35.87896974]]\n"
     ]
    }
   ],
   "source": [
    "y_ = hypothesis(X,theta)\n",
    "print(y_)"
   ]
  },
  {
   "cell_type": "code",
   "execution_count": 10,
   "metadata": {},
   "outputs": [
    {
     "data": {
      "image/png": "[encoded data removed]",
      "text/plain": [
       "<Figure size 576x396 with 1 Axes>"
      ]
     },
     "metadata": {},
     "output_type": "display_data"
    }
   ],
   "source": [
    "plt.scatter(X,y)\n",
    "plt.plot(X,y_,color=\"orange\",label=\"Prediction\")\n",
    "plt.legend()\n",
    "plt.show()"
   ]
  },
  {
   "cell_type": "code",
   "execution_count": 16,
   "metadata": {},
   "outputs": [],
   "source": [
    "X_test = pd.read_csv(\"Linear_X_Test.csv\").values\n",
    "y_test = hypothesis(X_test,theta)"
   ]
  },
  {
   "cell_type": "code",
   "execution_count": 17,
   "metadata": {},
   "outputs": [],
   "source": [
    "df = pd.DataFrame(data = y_test,columns=[\"y\"])"
   ]
  },
  {
   "cell_type": "code",
   "execution_count": 18,
   "metadata": {},
   "outputs": [],
   "source": [
    "df.to_csv(\"y_prediction.csv\",index=False)"
   ]
  },
  {
   "cell_type": "code",
   "execution_count": null,
   "metadata": {},
   "outputs": [],
   "source": []
  },
  {
   "cell_type": "code",
   "execution_count": null,
   "metadata": {},
   "outputs": [],
   "source": []
  },
  {
   "cell_type": "markdown",
   "metadata": {},
   "source": [
    "### How to check the Accuracy of your Model"
   ]
  },
  {
   "cell_type": "code",
   "execution_count": 20,
   "metadata": {},
   "outputs": [],
   "source": [
    "def r2_score(Y,y_):\n",
    "    num = np.sum((Y-y_)**2)\n",
    "    denom = np.sum((Y-Y.mean())**2)\n",
    "    \n",
    "    score = (1-num/denom)\n",
    "    \n",
    "    return score*100"
   ]
  },
  {
   "cell_type": "code",
   "execution_count": 21,
   "metadata": {},
   "outputs": [
    {
     "data": {
      "text/plain": [
       "97.09612226930929"
      ]
     },
     "execution_count": 21,
     "metadata": {},
     "output_type": "execute_result"
    }
   ],
   "source": [
    "r2_score(y,y_)"
   ]
  },
  {
   "cell_type": "code",
   "execution_count": null,
   "metadata": {},
   "outputs": [],
   "source": []
  }
 ],
 "metadata": {
  "kernelspec": {
   "display_name": "Python 3",
   "language": "python",
   "name": "python3"
  },
  "language_info": {
   "codemirror_mode": {
    "name": "ipython",
    "version": 3
   },
   "file_extension": ".py",
   "mimetype": "text/x-python",
   "name": "python",
   "nbconvert_exporter": "python",
   "pygments_lexer": "ipython3",
   "version": "3.7.6"
  }
 },
 "nbformat": 4,
 "nbformat_minor": 4
}
