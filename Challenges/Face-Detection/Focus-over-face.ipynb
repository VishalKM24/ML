{
 "cells": [
  {
   "cell_type": "code",
   "execution_count": 1,
   "metadata": {},
   "outputs": [],
   "source": [
    "import cv2\n",
    "\n",
    "cap = cv2.VideoCapture(0)\n",
    "face_cascade = cv2.CascadeClassifier(\"haarcascade_frontalface_alt.xml\")\n",
    "\n",
    "while True:\n",
    "    ret, frame = cap.read()\n",
    "    gray_frame = cv2.cvtColor(frame, cv2.COLOR_BGR2RGB) #for change in color to gray\n",
    "    if ret==False:\n",
    "        continue\n",
    "        \n",
    "    faces = face_cascade.detectMultiScale(gray_frame, 1.3,5) # 1.3 is scalling and 5 is no of neighbours\n",
    "    # for multiple faces it will return tuples with their cordinates\n",
    "    \n",
    "    for (x,y,w,h) in faces:\n",
    "        cv2.rectangle(frame, (x,y), (x+w, y+h), (255,0,0), 2)\n",
    "    cv2.imshow(\"Video Frame\", frame)\n",
    "    #wait for user input - q, to stop the loop\n",
    "    \n",
    "    key_pressed = cv2.waitKey(1) & 0xFF  \n",
    "    if key_pressed == ord('q'):\n",
    "        break\n",
    "\n",
    "\n",
    "# use to clear all the windows\n",
    "cap.release()\n",
    "cv2.destroyAllWindows()"
   ]
  }
 ],
 "metadata": {
  "kernelspec": {
   "display_name": "Python 3",
   "language": "python",
   "name": "python3"
  },
  "language_info": {
   "codemirror_mode": {
    "name": "ipython",
    "version": 3
   },
   "file_extension": ".py",
   "mimetype": "text/x-python",
   "name": "python",
   "nbconvert_exporter": "python",
   "pygments_lexer": "ipython3",
   "version": "3.7.6"
  }
 },
 "nbformat": 4,
 "nbformat_minor": 4
}
