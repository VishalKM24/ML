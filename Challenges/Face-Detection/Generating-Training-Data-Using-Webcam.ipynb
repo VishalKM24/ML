{
 "cells": [
  {
   "cell_type": "markdown",
   "metadata": {},
   "source": [
    "1. Read and show video stream, capture images\n",
    "2. Detect faces and show bounding box(haarcascades)\n",
    "3. Flatten the largest face imae and save in numpy array\n",
    "4. Repeat the step to get maximum people to generate training Data"
   ]
  },
  {
   "cell_type": "code",
   "execution_count": null,
   "metadata": {},
   "outputs": [],
   "source": [
    "import cv2\n",
    "import numpy as np\n",
    "\n",
    "# Initialize Camera\n",
    "cap = cv2.VideoCapture(0)\n",
    "\n",
    "# Face detection\n",
    "face_cascade = cv2.CascadeClassifier(\"haarcascade_frontalface_alt.xml\")\n",
    "\n",
    "skip = 0\n",
    "face_data = []\n",
    "data_path = \"./data/\"\n",
    "file_name = input(\"enter the name of the person : \")\n",
    "\n",
    "while True:\n",
    "    ret, frame = cap.read()\n",
    "    \n",
    "    if ret == False:\n",
    "        continue\n",
    "    \n",
    "    gray_frame = cv2.cvtColor(frame, cv2.COLOR_BGR2GRAY)\n",
    "    \n",
    "    faces = face_cascade.detectMultiScale(frame,1.3,5)\n",
    "    faces = sorted(faces, key=lambda f:f[2]*f[3])\n",
    "    #pick largest face\n",
    "    faces = faces[::-1]\n",
    "    \n",
    "    for face in faces:\n",
    "        x,y,w,h = face\n",
    "        cv2.rectangle(frame,(x,y),(x+w, y+h),(0,255,255),2)\n",
    "        \n",
    "        # Extract required Image\n",
    "        offset = 25\n",
    "        face_section = frame[y-offset:y+h+offset, x-offset:x+w+offset]\n",
    "        face_section = cv2.resize(face_section,(100,100))\n",
    "        \n",
    "        if skip%10==0:\n",
    "            face_data.append(face_section)\n",
    "            print(len(face_data))\n",
    "        \n",
    "        cv2.imshow(\"Face Section\", face_section)\n",
    "        \n",
    "        \n",
    "    cv2.imshow(\"frame\", frame) # helps in creating rectanglular box over face\n",
    "    \n",
    "    \n",
    "    \n",
    "    key_pressed = cv2.waitKey(1) &0xFF\n",
    "    if key_pressed == ord(\"q\"):\n",
    "        break\n",
    "    \n",
    "# Convert face data into numpy array\n",
    "face_data = np.asarray(face_data)\n",
    "face_data = face_data.reshape((face_data.shape[0], -1))\n",
    "print(face_data.shape)\n",
    "    \n",
    "#save this data into file system\n",
    "np.save(data_path+file_name+\".npy\", face_data)\n",
    "\n",
    "print(\"Data Saved Succesfully in \"+ data_path+file_name+\".npy\")\n",
    "    \n",
    "cap.release()\n",
    "cv2.destroyAllWindows()"
   ]
  },
  {
   "cell_type": "code",
   "execution_count": null,
   "metadata": {},
   "outputs": [],
   "source": []
  }
 ],
 "metadata": {
  "kernelspec": {
   "display_name": "Python 3",
   "language": "python",
   "name": "python3"
  },
  "language_info": {
   "codemirror_mode": {
    "name": "ipython",
    "version": 3
   },
   "file_extension": ".py",
   "mimetype": "text/x-python",
   "name": "python",
   "nbconvert_exporter": "python",
   "pygments_lexer": "ipython3",
   "version": "3.7.6"
  }
 },
 "nbformat": 4,
 "nbformat_minor": 4
}
