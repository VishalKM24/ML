{
 "cells": [
  {
   "cell_type": "code",
   "execution_count": 1,
   "metadata": {},
   "outputs": [],
   "source": [
    "import numpy as np"
   ]
  },
  {
   "cell_type": "markdown",
   "metadata": {},
   "source": [
    "- for min,max median of array data from the nupy array"
   ]
  },
  {
   "cell_type": "code",
   "execution_count": 2,
   "metadata": {},
   "outputs": [
    {
     "name": "stdout",
     "output_type": "stream",
     "text": [
      "[[ 3  9  3  7  8]\n",
      " [ 7  2  6 10  8]\n",
      " [ 8 13  7 11 10]]\n",
      "\n",
      "[3 2 3 7 8]\n",
      "[3 2 7]\n",
      "[ 8 13  7 11 10]\n",
      "[ 9 10 13]\n"
     ]
    }
   ],
   "source": [
    "a = np.random.randint(2,15,(3,5))\n",
    "print(a)\n",
    "print()\n",
    "print(np.min(a, axis = 0))\n",
    "print(np.min(a, axis = 1))\n",
    "print(np.max(a, axis = 0))\n",
    "print(np.max(a, axis = 1))"
   ]
  },
  {
   "cell_type": "markdown",
   "metadata": {},
   "source": [
    "- mean, median, average works the same way"
   ]
  },
  {
   "cell_type": "code",
   "execution_count": 5,
   "metadata": {},
   "outputs": [
    {
     "name": "stdout",
     "output_type": "stream",
     "text": [
      "4.0\n",
      "4.0\n",
      "4.129032258064516\n",
      "2.449489742783178\n"
     ]
    }
   ],
   "source": [
    "c = np.array([1,5,2,8,4])\n",
    "print(np.median(c))\n",
    "print(np.mean(c))\n",
    "\n",
    "# weights\n",
    "w = np.array([5,9,7,6,4])\n",
    "print(np.average(c,weights=w))\n",
    "\n",
    "#Standard Deviation\n",
    "u = np.mean(c)\n",
    "mystd = np.sqrt(np.mean(abs(c-u)**2))\n",
    "print(mystd)"
   ]
  },
  {
   "cell_type": "code",
   "execution_count": 7,
   "metadata": {},
   "outputs": [
    {
     "name": "stdout",
     "output_type": "stream",
     "text": [
      "2.449489742783178\n",
      "5.999999999999999\n",
      "6.0\n"
     ]
    }
   ],
   "source": [
    "dev = np.std(c)\n",
    "print(dev)\n",
    "\n",
    "print(mystd**2)\n",
    "print(np.var(c))"
   ]
  },
  {
   "cell_type": "code",
   "execution_count": 51,
   "metadata": {},
   "outputs": [],
   "source": [
    "a = np.random.randint(0,15, size=(30,1))"
   ]
  },
  {
   "cell_type": "code",
   "execution_count": 55,
   "metadata": {},
   "outputs": [],
   "source": [
    "a.resize((6,5))"
   ]
  },
  {
   "cell_type": "code",
   "execution_count": 56,
   "metadata": {},
   "outputs": [
    {
     "data": {
      "text/plain": [
       "array([[13, 12,  5,  3,  1],\n",
       "       [ 2,  9,  0,  9, 11],\n",
       "       [12, 13,  5, 10, 12],\n",
       "       [ 8,  2, 10,  4,  7],\n",
       "       [ 3,  9,  0,  9,  9],\n",
       "       [ 1, 11,  0,  7,  2]])"
      ]
     },
     "execution_count": 56,
     "metadata": {},
     "output_type": "execute_result"
    }
   ],
   "source": [
    "a"
   ]
  },
  {
   "cell_type": "code",
   "execution_count": 61,
   "metadata": {},
   "outputs": [],
   "source": [
    "a = a.reshape((-1,5))"
   ]
  },
  {
   "cell_type": "code",
   "execution_count": 62,
   "metadata": {},
   "outputs": [
    {
     "data": {
      "text/plain": [
       "array([[13, 12,  5,  3,  1],\n",
       "       [ 2,  9,  0,  9, 11],\n",
       "       [12, 13,  5, 10, 12],\n",
       "       [ 8,  2, 10,  4,  7],\n",
       "       [ 3,  9,  0,  9,  9],\n",
       "       [ 1, 11,  0,  7,  2]])"
      ]
     },
     "execution_count": 62,
     "metadata": {},
     "output_type": "execute_result"
    }
   ],
   "source": [
    "a"
   ]
  },
  {
   "cell_type": "code",
   "execution_count": 68,
   "metadata": {},
   "outputs": [],
   "source": [
    "a = np.arange(1,17).reshape(4,4)\n",
    "b = np.arange(17,33).reshape(4,4)"
   ]
  },
  {
   "cell_type": "code",
   "execution_count": 69,
   "metadata": {},
   "outputs": [
    {
     "data": {
      "text/plain": [
       "array([[ 1,  2,  3,  4],\n",
       "       [ 5,  6,  7,  8],\n",
       "       [ 9, 10, 11, 12],\n",
       "       [13, 14, 15, 16]])"
      ]
     },
     "execution_count": 69,
     "metadata": {},
     "output_type": "execute_result"
    }
   ],
   "source": [
    "a"
   ]
  },
  {
   "cell_type": "code",
   "execution_count": 70,
   "metadata": {},
   "outputs": [
    {
     "data": {
      "text/plain": [
       "array([[17, 18, 19, 20],\n",
       "       [21, 22, 23, 24],\n",
       "       [25, 26, 27, 28],\n",
       "       [29, 30, 31, 32]])"
      ]
     },
     "execution_count": 70,
     "metadata": {},
     "output_type": "execute_result"
    }
   ],
   "source": [
    "b"
   ]
  },
  {
   "cell_type": "code",
   "execution_count": 71,
   "metadata": {},
   "outputs": [
    {
     "data": {
      "text/plain": [
       "array([[ 1,  2,  3,  4, 17, 18, 19, 20],\n",
       "       [ 5,  6,  7,  8, 21, 22, 23, 24],\n",
       "       [ 9, 10, 11, 12, 25, 26, 27, 28],\n",
       "       [13, 14, 15, 16, 29, 30, 31, 32]])"
      ]
     },
     "execution_count": 71,
     "metadata": {},
     "output_type": "execute_result"
    }
   ],
   "source": [
    "np.hstack((a,b))"
   ]
  },
  {
   "cell_type": "code",
   "execution_count": 72,
   "metadata": {},
   "outputs": [
    {
     "data": {
      "text/plain": [
       "array([[ 1,  2,  3,  4, 17, 18, 19, 20],\n",
       "       [ 5,  6,  7,  8, 21, 22, 23, 24],\n",
       "       [ 9, 10, 11, 12, 25, 26, 27, 28],\n",
       "       [13, 14, 15, 16, 29, 30, 31, 32]])"
      ]
     },
     "execution_count": 72,
     "metadata": {},
     "output_type": "execute_result"
    }
   ],
   "source": [
    "np.concatenate((a,b), axis = 1)"
   ]
  },
  {
   "cell_type": "code",
   "execution_count": 73,
   "metadata": {},
   "outputs": [
    {
     "data": {
      "text/plain": [
       "array([[ 1,  2,  3,  4],\n",
       "       [ 5,  6,  7,  8],\n",
       "       [ 9, 10, 11, 12],\n",
       "       [13, 14, 15, 16],\n",
       "       [17, 18, 19, 20],\n",
       "       [21, 22, 23, 24],\n",
       "       [25, 26, 27, 28],\n",
       "       [29, 30, 31, 32]])"
      ]
     },
     "execution_count": 73,
     "metadata": {},
     "output_type": "execute_result"
    }
   ],
   "source": [
    "np.concatenate((a,b), axis = 0)"
   ]
  },
  {
   "cell_type": "code",
   "execution_count": 74,
   "metadata": {},
   "outputs": [
    {
     "data": {
      "text/plain": [
       "array([[ 1,  2,  3,  4, 17, 18, 19, 20],\n",
       "       [ 5,  6,  7,  8, 21, 22, 23, 24],\n",
       "       [ 9, 10, 11, 12, 25, 26, 27, 28],\n",
       "       [13, 14, 15, 16, 29, 30, 31, 32]])"
      ]
     },
     "execution_count": 74,
     "metadata": {},
     "output_type": "execute_result"
    }
   ],
   "source": [
    "np.hstack((a,b))"
   ]
  },
  {
   "cell_type": "code",
   "execution_count": null,
   "metadata": {},
   "outputs": [],
   "source": []
  }
 ],
 "metadata": {
  "kernelspec": {
   "display_name": "Python 3",
   "language": "python",
   "name": "python3"
  },
  "language_info": {
   "codemirror_mode": {
    "name": "ipython",
    "version": 3
   },
   "file_extension": ".py",
   "mimetype": "text/x-python",
   "name": "python",
   "nbconvert_exporter": "python",
   "pygments_lexer": "ipython3",
   "version": "3.7.6"
  }
 },
 "nbformat": 4,
 "nbformat_minor": 4
}
